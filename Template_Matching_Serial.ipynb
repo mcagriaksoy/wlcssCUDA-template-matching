{
  "nbformat": 4,
  "nbformat_minor": 0,
  "metadata": {
    "colab": {
      "name": "Template_Matching_Serial.ipynb",
      "provenance": [],
      "toc_visible": true,
      "authorship_tag": "ABX9TyNdX2siVbNd1rnJgp0XAQKQ",
      "include_colab_link": true
    },
    "kernelspec": {
      "name": "python3",
      "display_name": "Python 3"
    }
  },
  "cells": [
    {
      "cell_type": "markdown",
      "metadata": {
        "id": "view-in-github",
        "colab_type": "text"
      },
      "source": [
        "<a href=\"https://colab.research.google.com/github/mcagriaksoy/wlcssCUDA-template-matching/blob/master/Template_Matching_Serial.ipynb\" target=\"_parent\"><img src=\"https://colab.research.google.com/assets/colab-badge.svg\" alt=\"Open In Colab\"/></a>"
      ]
    },
    {
      "cell_type": "code",
      "metadata": {
        "id": "m4pYANh9Ulo7",
        "colab_type": "code",
        "colab": {}
      },
      "source": [
        "import cv2\n",
        "import numpy as np\n",
        "from matplotlib import pyplot as plt\n",
        "from timeit import default_timer as timer"
      ],
      "execution_count": 0,
      "outputs": []
    },
    {
      "cell_type": "code",
      "metadata": {
        "id": "kzDAE-opUm4c",
        "colab_type": "code",
        "colab": {}
      },
      "source": [
        "TEMPLATE_PATH = '/content/120.jpeg'\n",
        "STREAM_PATH = '/content/1920.jpeg'\n",
        "\n",
        "template =  cv2.imread(TEMPLATE_PATH,1)\n",
        "template_gray = cv2.imread(TEMPLATE_PATH,0)\n",
        "\n",
        "stream  =  cv2.imread(STREAM_PATH, 1) \n",
        "stream_gray = cv2.cvtColor(stream, cv2.COLOR_BGR2GRAY)\n"
      ],
      "execution_count": 0,
      "outputs": []
    },
    {
      "cell_type": "code",
      "metadata": {
        "id": "Ekz3i3REUnAF",
        "colab_type": "code",
        "colab": {}
      },
      "source": [
        "start_serial = timer()\n",
        "\n",
        "w, h = template_gray.shape[::-1]\n",
        "\n",
        "res = cv2.matchTemplate(stream_gray,template_gray,cv2.TM_SQDIFF )\n",
        "\n",
        "\n",
        "threshold = 0.8\n",
        "loc = np.where( res >= threshold)\n",
        "for pt in zip(*loc[::-1]):\n",
        "    cv2.rectangle(stream, pt, (pt[0] + w, pt[1] + h), (0,0,255), 2)\n",
        "\n",
        "cv2.imwrite('res.png',stream)\n",
        "\n",
        "end_serial = timer()\n",
        "print(end_serial-start_serial)"
      ],
      "execution_count": 0,
      "outputs": []
    }
  ]
}