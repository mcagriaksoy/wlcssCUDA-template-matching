{
  "nbformat": 4,
  "nbformat_minor": 0,
  "metadata": {
    "colab": {
      "name": "parallel_programming.ipynb",
      "provenance": [],
      "collapsed_sections": [],
      "machine_shape": "hm",
      "include_colab_link": true
    },
    "kernelspec": {
      "name": "python3",
      "display_name": "Python 3"
    },
    "accelerator": "GPU"
  },
  "cells": [
    {
      "cell_type": "markdown",
      "metadata": {
        "id": "view-in-github",
        "colab_type": "text"
      },
      "source": [
        "<a href=\"https://colab.research.google.com/github/mcagriaksoy/wlcssCUDA-template-matching/blob/master/parallel_programming.ipynb\" target=\"_parent\"><img src=\"https://colab.research.google.com/assets/colab-badge.svg\" alt=\"Open In Colab\"/></a>"
      ]
    },
    {
      "cell_type": "code",
      "metadata": {
        "id": "HgWJtFQnMpJq"
      },
      "source": [
        "\n",
        "# from google.colab import drive\n",
        "# drive.mount('/content/drive')"
      ],
      "execution_count": 1,
      "outputs": []
    },
    {
      "cell_type": "code",
      "metadata": {
        "id": "wxLDggRC7V_i",
        "outputId": "4f3f80bb-c9e6-4b92-cec4-fcc192d1410d",
        "colab": {
          "base_uri": "https://localhost:8080/",
          "height": 162
        }
      },
      "source": [
        "pip install pycuda\n"
      ],
      "execution_count": 2,
      "outputs": [
        {
          "output_type": "stream",
          "text": [
            "Requirement already satisfied: pycuda in /usr/local/lib/python3.6/dist-packages (2020.1)\n",
            "Requirement already satisfied: appdirs>=1.4.0 in /usr/local/lib/python3.6/dist-packages (from pycuda) (1.4.4)\n",
            "Requirement already satisfied: decorator>=3.2.0 in /usr/local/lib/python3.6/dist-packages (from pycuda) (4.4.2)\n",
            "Requirement already satisfied: mako in /usr/local/lib/python3.6/dist-packages (from pycuda) (1.1.3)\n",
            "Requirement already satisfied: pytools>=2011.2 in /usr/local/lib/python3.6/dist-packages (from pycuda) (2020.4)\n",
            "Requirement already satisfied: MarkupSafe>=0.9.2 in /usr/local/lib/python3.6/dist-packages (from mako->pycuda) (1.1.1)\n",
            "Requirement already satisfied: numpy>=1.6.0 in /usr/local/lib/python3.6/dist-packages (from pytools>=2011.2->pycuda) (1.18.5)\n",
            "Requirement already satisfied: six>=1.8.0 in /usr/local/lib/python3.6/dist-packages (from pytools>=2011.2->pycuda) (1.15.0)\n"
          ],
          "name": "stdout"
        }
      ]
    },
    {
      "cell_type": "code",
      "metadata": {
        "id": "ctA9xsSS3YE2",
        "outputId": "e23cf30d-e0b1-48c9-c646-46876f075196",
        "colab": {
          "base_uri": "https://localhost:8080/",
          "height": 53
        }
      },
      "source": [
        "pip install opencv-python"
      ],
      "execution_count": 3,
      "outputs": [
        {
          "output_type": "stream",
          "text": [
            "Requirement already satisfied: opencv-python in /usr/local/lib/python3.6/dist-packages (4.1.2.30)\n",
            "Requirement already satisfied: numpy>=1.11.3 in /usr/local/lib/python3.6/dist-packages (from opencv-python) (1.18.5)\n"
          ],
          "name": "stdout"
        }
      ]
    },
    {
      "cell_type": "code",
      "metadata": {
        "id": "D5S1moXnKCxk"
      },
      "source": [
        "import pycuda.autoinit\n",
        "import pycuda.driver as drv\n",
        "import numpy as np\n",
        "import cv2\n",
        "from timeit import default_timer as timer\n",
        "from pycuda.compiler import SourceModule\n",
        "from matplotlib import pyplot as plt"
      ],
      "execution_count": 4,
      "outputs": []
    },
    {
      "cell_type": "code",
      "metadata": {
        "id": "4CW0xcuWNOJN"
      },
      "source": [
        "\n",
        "mod = SourceModule(\"\"\"\n",
        "__global__ void wlcss_cuda_kernel(int32_t *d_mss, int32_t *d_mss_offsets, int32_t *d_ts, int32_t *d_ss, int32_t *d_tlen, int32_t *d_toffsets, int32_t *d_slen, int32_t *d_soffsets, int32_t *d_params){\n",
        "    \n",
        "    int params_idx = threadIdx.x;\n",
        "    int template_idx = blockIdx.x;\n",
        "    int stream_idx = blockIdx.y;\n",
        "    \n",
        "    int t_len = d_tlen[template_idx];\n",
        "    int s_len = d_slen[stream_idx];\n",
        "    \n",
        "    int t_offset = d_toffsets[template_idx];\n",
        "    int s_offset = d_soffsets[stream_idx];\n",
        "    \n",
        "    int d_mss_offset = d_mss_offsets[params_idx*gridDim.x*gridDim.y+template_idx*gridDim.y+stream_idx];\n",
        "    \n",
        "    int32_t *tmp_window = new int32_t[(t_len + 2)]();\n",
        "    int32_t *t = &d_ts[t_offset];\n",
        "    int32_t *s = &d_ss[s_offset];\n",
        "    int32_t *mss = &d_mss[d_mss_offset];\n",
        "    int32_t reward = d_params[params_idx*3];\n",
        "    int32_t penalty = d_params[params_idx*3+1];\n",
        "    int32_t accepteddist = d_params[params_idx*3+2];\n",
        "    int32_t tmp = 0;\n",
        "    for(int32_t j=0;j<s_len;j++){\n",
        "        for(int32_t i=0;i<t_len;i++){\n",
        "            int32_t distance = abs(s[j]-t[i]);\n",
        "            if (distance <= accepteddist){\n",
        "                tmp = tmp_window[i]+reward;\n",
        "            } else{\n",
        "                tmp = max(tmp_window[i]-penalty*distance,\n",
        "                            max(tmp_window[i+1]-penalty*distance,\n",
        "                                tmp_window[t_len+1]-penalty*distance));\n",
        "            }\n",
        "            tmp_window[i] = tmp_window[t_len+1];\n",
        "            tmp_window[t_len+1] = tmp;\n",
        "        }\n",
        "        tmp_window[t_len] = tmp_window[t_len+1];\n",
        "        mss[j] = tmp_window[t_len+1];\n",
        "        tmp_window[t_len+1] = 0;\n",
        "    }\n",
        "    delete [] tmp_window;\n",
        "}\n",
        "\"\"\")\n",
        "\n",
        "\n",
        "def compute_wlcss(templates, streams, params):\n",
        "    wlcss_pycuda = mod.get_function(\"wlcss_cuda_kernel\")\n",
        "\n",
        "    h_t = templates\n",
        "    h_s = streams\n",
        "    h_params = np.array(params).astype(np.int32)\n",
        "\n",
        "    num_templates = len(h_t)  # Num block on X\n",
        "    num_streams = len(h_s)  # Num block on Y\n",
        "    num_params_sets = len(h_params)  # Num thread per block\n",
        "\n",
        "    h_tlen = np.array([len(t) for t in h_t]).astype(np.int32)\n",
        "    h_toffsets = np.cumsum(h_tlen).astype(np.int32)\n",
        "    h_toffsets = np.insert(h_toffsets[0:-1], 0, 0)\n",
        "\n",
        "    h_slen = np.array([len(s) for s in h_s]).astype(np.int32)\n",
        "    h_soffsets = np.cumsum(h_slen).astype(np.int32)\n",
        "    h_soffsets = np.insert(h_soffsets[0:-1], 0, 0)\n",
        "\n",
        "    h_ts = np.array([item for sublist in h_t for item in sublist]).astype(np.int32)  # Template as numpy array\n",
        "    h_ss = np.array([item for sublist in h_s for item in sublist]).astype(np.int32)  # Stream as numpy array\n",
        "\n",
        "    h_mss = np.zeros((len(h_ss) * num_params_sets * num_templates)).astype(np.int32)\n",
        "    d_mss = drv.mem_alloc(h_mss.nbytes)\n",
        "    drv.memcpy_htod(d_mss, h_mss)\n",
        "    h_mss_offsets = np.cumsum(np.tile(h_slen, num_params_sets * num_templates)).astype(np.int32)\n",
        "    h_mss_offsets = np.insert(h_mss_offsets, 0, 0)\n",
        "\n",
        "    wlcss_pycuda(d_mss, drv.In(h_mss_offsets),\n",
        "                 drv.In(h_ts), drv.In(h_ss),\n",
        "                 drv.In(h_tlen), drv.In(h_toffsets),\n",
        "                 drv.In(h_slen), drv.In(h_soffsets),\n",
        "                 drv.In(h_params),\n",
        "                 block=(num_params_sets, 1, 1), grid=(num_templates, num_streams))\n",
        "\n",
        "    h_mss = np.empty_like(h_mss).astype(np.int32)\n",
        "    drv.memcpy_dtoh(h_mss, d_mss)\n",
        "    tmp_mss = np.array([h_mss[offset - 1] for offset in h_mss_offsets[1:]])\n",
        "    mss = [np.reshape(np.ravel(x), (num_streams, num_templates), order='F') for x in\n",
        "           np.reshape(tmp_mss, (num_params_sets, num_streams, num_templates))]\n",
        "    return mss"
      ],
      "execution_count": 5,
      "outputs": []
    },
    {
      "cell_type": "code",
      "metadata": {
        "id": "TKCjgiR6VkDd",
        "outputId": "7bc31706-c543-4197-9fdd-c23e3c983b67",
        "colab": {
          "base_uri": "https://localhost:8080/",
          "height": 144
        }
      },
      "source": [
        "\n",
        "x = np.array([1,1,1])\n",
        "s = np.array([1,1,1])\n",
        "\n",
        "y = [s,x]\n",
        "\n",
        "z= [x,s,x]\n",
        "matching_scores = compute_wlcss(y,z,x)\n",
        "\n",
        "print(matching_scores)"
      ],
      "execution_count": 6,
      "outputs": [
        {
          "output_type": "stream",
          "text": [
            "[array([[3, 3],\n",
            "       [3, 3],\n",
            "       [3, 3]], dtype=int32), array([[0, 0],\n",
            "       [0, 0],\n",
            "       [0, 0]], dtype=int32), array([[0, 0],\n",
            "       [0, 0],\n",
            "       [0, 0]], dtype=int32)]\n"
          ],
          "name": "stdout"
        }
      ]
    },
    {
      "cell_type": "code",
      "metadata": {
        "id": "6NsrfAvS4GDP"
      },
      "source": [
        "TEMPLATE_PATH = '/content/52.jpeg'\n",
        "STREAM_PATH = '/content/960.jpeg'\n",
        "\n",
        "template =  cv2.imread(TEMPLATE_PATH,1)\n",
        "template_gray = cv2.imread(TEMPLATE_PATH,0)\n",
        "\n",
        "stream  =  cv2.imread(STREAM_PATH, 1) \n",
        "stream_gray = cv2.cvtColor(stream, cv2.COLOR_BGR2GRAY)\n"
      ],
      "execution_count": 9,
      "outputs": []
    },
    {
      "cell_type": "code",
      "metadata": {
        "id": "feABVHrF4XpV",
        "outputId": "f94a8760-71e8-4735-a497-230ccc638760",
        "colab": {
          "base_uri": "https://localhost:8080/",
          "height": 35
        }
      },
      "source": [
        "loopcount = 0\n",
        "\n",
        "for x in range(0,10):\n",
        "  x = np.array([1,1,1])\n",
        "  start = timer()\n",
        "  matching_scores = compute_wlcss(template_gray,stream_gray,x)\n",
        "  end = timer()\n",
        "  loopcount += (end-start)\n",
        "\n",
        "\n",
        "print(loopcount/10)\n",
        "#print(matching_scores)\n"
      ],
      "execution_count": 10,
      "outputs": [
        {
          "output_type": "stream",
          "text": [
            "1.039128470500009\n"
          ],
          "name": "stdout"
        }
      ]
    }
  ]
}